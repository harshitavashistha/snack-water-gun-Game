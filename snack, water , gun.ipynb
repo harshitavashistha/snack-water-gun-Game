{
 "cells": [
  {
   "cell_type": "code",
   "execution_count": 17,
   "metadata": {},
   "outputs": [
    {
     "name": "stdout",
     "output_type": "stream",
     "text": [
      "comp turn: snake(s) water(w) or gun(g)?\n",
      "your turn: snake(s) water(w) or gun(g)?s\n",
      "computer chose w\n",
      "you chose s\n",
      "you win!\n"
     ]
    }
   ],
   "source": [
    "\n",
    "import random\n",
    "\n",
    "def gamewin(comp, you):\n",
    "    if comp==you:\n",
    "        return None\n",
    "    elif comp == 's':\n",
    "        if you=='w':\n",
    "            return False\n",
    "        elif you=='g':\n",
    "            return True\n",
    "    elif comp =='w':\n",
    "        if you=='g':\n",
    "            return False\n",
    "        elif you=='s':\n",
    "            return True\n",
    "    elif comp =='g':\n",
    "        if you=='s':\n",
    "            return False\n",
    "        elif you=='w':\n",
    "            return True\n",
    "        \n",
    "        \n",
    "print(\"comp turn: snake(s) water(w) or gun(g)?\")\n",
    "randNo = random.randint(1, 3)\n",
    "if randNo == 1:\n",
    "    comp = 's'\n",
    "elif randNo == 2:\n",
    "    comp = 'w'\n",
    "elif randNo == 3:\n",
    "    comp = 'g'\n",
    "    \n",
    "\n",
    "you = input(\"your turn: snake(s) water(w) or gun(g)?\")\n",
    "a = gamewin(comp, you)\n",
    "\n",
    "print(f\"computer chose {comp}\")\n",
    "print(f\"you chose {you}\")\n",
    "\n",
    "if a == None:\n",
    "    print(\"The game is a tie!\")\n",
    "elif a:\n",
    "    print(\"you win!\")\n",
    "else :\n",
    "    print(\"you lose\")\n"
   ]
  },
  {
   "cell_type": "code",
   "execution_count": null,
   "metadata": {},
   "outputs": [],
   "source": []
  },
  {
   "cell_type": "code",
   "execution_count": null,
   "metadata": {},
   "outputs": [],
   "source": []
  }
 ],
 "metadata": {
  "kernelspec": {
   "display_name": "Python 3",
   "language": "python",
   "name": "python3"
  },
  "language_info": {
   "codemirror_mode": {
    "name": "ipython",
    "version": 3
   },
   "file_extension": ".py",
   "mimetype": "text/x-python",
   "name": "python",
   "nbconvert_exporter": "python",
   "pygments_lexer": "ipython3",
   "version": "3.8.5"
  }
 },
 "nbformat": 4,
 "nbformat_minor": 4
}
